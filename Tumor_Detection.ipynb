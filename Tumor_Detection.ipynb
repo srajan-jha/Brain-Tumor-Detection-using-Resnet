{
  "nbformat": 4,
  "nbformat_minor": 0,
  "metadata": {
    "colab": {
      "name": "Tumor Detection.ipynb",
      "version": "0.3.2",
      "provenance": [],
      "collapsed_sections": [
        "fL6D9BC4cQU6",
        "FMPL6_tccmpv",
        "362tj0ilc3G-",
        "tk_N2GOrTzc_",
        "ThAKjV1UUDUZ",
        "tP1YsqDtdJE7",
        "uB09o9J2VMHS",
        "zIlNe1a2dWs0",
        "o3xng0t_y9Uz",
        "EaUmOw4gZrJa",
        "DGCiojyWyfjL",
        "R-2T-QIqOvqM",
        "o1DZYQ5Cc2tV",
        "I6Pn776mYw9X",
        "pJV4_Q_nV_WK",
        "i9B3k5hSW_C5",
        "wc9kR7UDdjih",
        "RNVnrH_Feiqo",
        "7-Xx2dSCoD1x"
      ]
    },
    "kernelspec": {
      "name": "python3",
      "display_name": "Python 3"
    },
    "accelerator": "GPU"
  },
  "cells": [
    {
      "metadata": {
        "id": "fL6D9BC4cQU6",
        "colab_type": "text"
      },
      "cell_type": "markdown",
      "source": [
        "## Setting up Connection between Drive and Google Colab"
      ]
    },
    {
      "metadata": {
        "id": "3_-sHrPRJuEp",
        "colab_type": "code",
        "outputId": "dd9e1485-7b1b-4acc-b77e-65e5c4e8311e",
        "colab": {
          "base_uri": "https://localhost:8080/",
          "height": 124
        }
      },
      "cell_type": "code",
      "source": [
        "# Load the Drive helper and mount\n",
        "from google.colab import drive\n",
        "\n",
        "# Mounting the drive -- This will prompt for authorization.\n",
        "drive.mount('/content/drive')"
      ],
      "execution_count": 1,
      "outputs": [
        {
          "output_type": "stream",
          "text": [
            "Go to this URL in a browser: https://accounts.google.com/o/oauth2/auth?client_id=947318989803-6bn6qk8qdgf4n4g3pfee6491hc0brc4i.apps.googleusercontent.com&redirect_uri=urn%3Aietf%3Awg%3Aoauth%3A2.0%3Aoob&scope=email%20https%3A%2F%2Fwww.googleapis.com%2Fauth%2Fdocs.test%20https%3A%2F%2Fwww.googleapis.com%2Fauth%2Fdrive%20https%3A%2F%2Fwww.googleapis.com%2Fauth%2Fdrive.photos.readonly%20https%3A%2F%2Fwww.googleapis.com%2Fauth%2Fpeopleapi.readonly&response_type=code\n",
            "\n",
            "Enter your authorization code:\n",
            "··········\n",
            "Mounted at /content/drive\n"
          ],
          "name": "stdout"
        }
      ]
    },
    {
      "metadata": {
        "id": "4d_CsjluKVOW",
        "colab_type": "code",
        "outputId": "2354e4b5-3991-487a-9e08-83f7d7523ef2",
        "colab": {
          "base_uri": "https://localhost:8080/",
          "height": 867
        }
      },
      "cell_type": "code",
      "source": [
        "!ls \"/content/drive/My Drive\""
      ],
      "execution_count": 2,
      "outputs": [
        {
          "output_type": "stream",
          "text": [
            " Aadhar.pdf\n",
            "'AI Saturdays Participant Guide (Public).gdoc'\n",
            "'All About Programming'\n",
            "'Ambassador Resource Kit'\n",
            "'Arpita (Apu)'\n",
            "'Artificial Intelligence Chapter - Jabalpur .gform'\n",
            " BRIAN-TRACY\n",
            " Building+your+Deep+Neural+Network+-+Step+by+Step+v8.ipynb\n",
            " Certificates\n",
            " chatbot.ipynb\n",
            " cnn_cifar10_clean.ipynb\n",
            "'Colab Notebooks'\n",
            "'cover letter srajan.docx'\n",
            " CV_Latest.pdf\n",
            " CV-SRAJAN.compressed.pdf\n",
            " CV-SRAJAN.docx\n",
            " CV-SRAJAN-Latest.pdf\n",
            "'Cycle2 - Ambassador Resource Kit'\n",
            "'Deep Learning and Neural Nets.pptx'\n",
            "'Driving License.pdf'\n",
            "'Event Feedback.gform'\n",
            "'https:  www (1).lin.txt'\n",
            "'https:  www.lin.txt'\n",
            " IMG1.jpg\n",
            " IMG_20180228_182329.jpg\n",
            " IMG_20180228_182447.jpg\n",
            " IMG_20180522_013222.jpg\n",
            " IMG_20180706_205024_487.jpg\n",
            " Keras-task.ipynb\n",
            " lesson1.ipynb\n",
            "'Like It Happened Yesterday - Ravinder Singh.pdf'\n",
            "'Logistic Regression with a Neural Network mindset.ipynb'\n",
            "'Machine Learning and Python '\n",
            " Marksheets\n",
            "'[merrells.space] Udemy - machinelearning'\n",
            "'ML Formulae'\n",
            "'Mumbai Cha Raja - Ganpati Song.mp3'\n",
            "'Perian DS and ML - Python'\n",
            " PhotoGrid_1526321105756.jpg\n",
            " PhotoGrid_1526321419129.jpg\n",
            " PhotoGrid_1526325999700.jpg\n",
            " PhotoGrid_1526384107430.jpg\n",
            "'Planar data classification with one hidden layer.ipynb'\n",
            " Python\n",
            "'Python Players'\n",
            "'Resume - Latest.pdf'\n",
            "'Resume Related'\n",
            "'Tumor Project'\n",
            " Untitled.ipynb\n"
          ],
          "name": "stdout"
        }
      ]
    },
    {
      "metadata": {
        "id": "FMPL6_tccmpv",
        "colab_type": "text"
      },
      "cell_type": "markdown",
      "source": [
        "## Locating Data on Drive"
      ]
    },
    {
      "metadata": {
        "id": "onRnxVSLKubs",
        "colab_type": "code",
        "colab": {}
      },
      "cell_type": "code",
      "source": [
        "import os\n",
        "\n",
        "os.chdir(\"/content/drive/My Drive/Tumor Project/training/dataset\")   # directory contains all the pictures sent as it is\n"
      ],
      "execution_count": 0,
      "outputs": []
    },
    {
      "metadata": {
        "id": "QKIguANHLDze",
        "colab_type": "code",
        "outputId": "fb21ff21-ea69-451f-9004-c5164e5dad8f",
        "colab": {
          "base_uri": "https://localhost:8080/",
          "height": 35
        }
      },
      "cell_type": "code",
      "source": [
        "files = os.listdir()\n",
        "print(len(files))       # 2125 images sent via the zip"
      ],
      "execution_count": 4,
      "outputs": [
        {
          "output_type": "stream",
          "text": [
            "2125\n"
          ],
          "name": "stdout"
        }
      ]
    },
    {
      "metadata": {
        "id": "362tj0ilc3G-",
        "colab_type": "text"
      },
      "cell_type": "markdown",
      "source": [
        "## Creating and splitting Train and Test Sets"
      ]
    },
    {
      "metadata": {
        "id": "5xKxDzADFSln",
        "colab_type": "code",
        "colab": {}
      },
      "cell_type": "code",
      "source": [
        "os.chdir(\"/content/drive/My Drive/Tumor Project/training\")"
      ],
      "execution_count": 0,
      "outputs": []
    },
    {
      "metadata": {
        "id": "tk_N2GOrTzc_",
        "colab_type": "text"
      },
      "cell_type": "markdown",
      "source": [
        "#### Creating folder named *\"train\"* to store training set"
      ]
    },
    {
      "metadata": {
        "id": "-2JyUN6pBDdn",
        "colab_type": "code",
        "outputId": "e566d0b3-4869-4b05-ee98-afef4aab0724",
        "colab": {
          "base_uri": "https://localhost:8080/",
          "height": 35
        }
      },
      "cell_type": "code",
      "source": [
        "train = 'train'\n",
        "\n",
        "# Create target Directory if don't exist\n",
        "if not os.path.exists(train):\n",
        "  os.mkdir(train)\n",
        "  print(\"Directory \" , train ,  \" Created \")\n",
        "else:    \n",
        "  print(\"Directory \" , train ,  \" already exists\")"
      ],
      "execution_count": 0,
      "outputs": [
        {
          "output_type": "stream",
          "text": [
            "Directory  train  Created \n"
          ],
          "name": "stdout"
        }
      ]
    },
    {
      "metadata": {
        "id": "ThAKjV1UUDUZ",
        "colab_type": "text"
      },
      "cell_type": "markdown",
      "source": [
        "#### Creating folder named *\"test\"* to store test set"
      ]
    },
    {
      "metadata": {
        "id": "VBqxFr6qC5MS",
        "colab_type": "code",
        "outputId": "20aa6af9-7671-438b-9801-1dd314307db7",
        "colab": {
          "base_uri": "https://localhost:8080/",
          "height": 35
        }
      },
      "cell_type": "code",
      "source": [
        "test = 'test'\n",
        "\n",
        "# Create target Directory if don't exist\n",
        "if not os.path.exists(test):\n",
        "  os.mkdir(test)\n",
        "  print(\"Directory \" , test ,  \" Created \")\n",
        "else:    \n",
        "  print(\"Directory \" , test ,  \" already exists\")"
      ],
      "execution_count": 0,
      "outputs": [
        {
          "output_type": "stream",
          "text": [
            "Directory  test  Created \n"
          ],
          "name": "stdout"
        }
      ]
    },
    {
      "metadata": {
        "id": "tP1YsqDtdJE7",
        "colab_type": "text"
      },
      "cell_type": "markdown",
      "source": [
        "#### Splitting data into *\"train\"* folder"
      ]
    },
    {
      "metadata": {
        "id": "XyVXwZebEqoP",
        "colab_type": "code",
        "colab": {}
      },
      "cell_type": "code",
      "source": [
        "import random\n",
        "import shutil\n",
        "\n",
        "dir.sort()  # making sure that the filenames have a fixed order before shuffling\n",
        "random.seed(23)  # to maintain the result as it is no matter how many times the code is run\n",
        "random.shuffle(dir)  # shuffles the ordering of filenames\n",
        "\n",
        "for file in files[:1805]:  \n",
        "  src = 'dataset/' + file\n",
        "  dest = 'train/' + file\n",
        "  shutil.move(src, dest) \n",
        "  \n",
        "# train ~ 85% of 2125\n",
        "# test ~ 15% of 2125"
      ],
      "execution_count": 0,
      "outputs": []
    },
    {
      "metadata": {
        "id": "Pw_QsTdURLyX",
        "colab_type": "code",
        "colab": {}
      },
      "cell_type": "code",
      "source": [
        "os.chdir(\"/content/drive/My Drive/Tumor Project/training/dataset\")"
      ],
      "execution_count": 0,
      "outputs": []
    },
    {
      "metadata": {
        "id": "317fKKAPb-m_",
        "colab_type": "code",
        "colab": {}
      },
      "cell_type": "code",
      "source": [
        "files = os.listdir()\n",
        "print(len(files)) "
      ],
      "execution_count": 0,
      "outputs": []
    },
    {
      "metadata": {
        "id": "r2pgdzkCcKBW",
        "colab_type": "code",
        "colab": {}
      },
      "cell_type": "code",
      "source": [
        "os.chdir(\"/content/drive/My Drive/Tumor Project/training\")"
      ],
      "execution_count": 0,
      "outputs": []
    },
    {
      "metadata": {
        "id": "uB09o9J2VMHS",
        "colab_type": "text"
      },
      "cell_type": "markdown",
      "source": [
        "#### Transferring remaining data into *\"test\"* folder"
      ]
    },
    {
      "metadata": {
        "id": "ATK9a6e0P-jI",
        "colab_type": "code",
        "colab": {}
      },
      "cell_type": "code",
      "source": [
        "for file in files:  \n",
        "  src = 'dataset/' + file\n",
        "  dest = 'test/' + file\n",
        "  shutil.move(src, dest) \n",
        "  "
      ],
      "execution_count": 0,
      "outputs": []
    },
    {
      "metadata": {
        "id": "2BHuPHK_P-dV",
        "colab_type": "text"
      },
      "cell_type": "markdown",
      "source": [
        "#### Division of images is :\n",
        "\n",
        "Train : 1805 images\n",
        "\n",
        "Test : 320 images"
      ]
    },
    {
      "metadata": {
        "id": "zIlNe1a2dWs0",
        "colab_type": "text"
      },
      "cell_type": "markdown",
      "source": [
        "## Extracting labels from filenames"
      ]
    },
    {
      "metadata": {
        "id": "IKhhJTPxE6dJ",
        "colab_type": "code",
        "colab": {}
      },
      "cell_type": "code",
      "source": [
        "os.chdir('/content/drive/My Drive/Tumor Project/training/test')"
      ],
      "execution_count": 0,
      "outputs": []
    },
    {
      "metadata": {
        "id": "d61wIrFVPyHt",
        "colab_type": "code",
        "colab": {}
      },
      "cell_type": "code",
      "source": [
        "test = os.listdir()\n",
        "print(len(test))"
      ],
      "execution_count": 0,
      "outputs": []
    },
    {
      "metadata": {
        "id": "cvDy801LgjoP",
        "colab_type": "code",
        "colab": {}
      },
      "cell_type": "code",
      "source": [
        "### Function to extract labels fom filename in the given path ###\n",
        "\n",
        "import numpy as np\n",
        "\n",
        "def extract_labels(path, dir):\n",
        "  \n",
        "  \"\"\"\n",
        "    Extracts labels from the filename provided at the given path\n",
        "    \n",
        "    Arguments:\n",
        "    path -- str type, path of the folder containing the files\n",
        "    dir -- list, containing the names of the files\n",
        "    \n",
        "    Returns:\n",
        "    labels -- labels extracted from the filenames, numpy array of shape (y, 1) containing 0 or 1 (0: notumor, 1: tumor)\n",
        "    \n",
        "    \"\"\"\n",
        "  \n",
        "  path = str(path)\n",
        "  list = path.split('/')\n",
        "  \n",
        "  if (list[-1] == 'test' or list[-1] == 'train'):\n",
        "    labels = []\n",
        "    for i in range(len(dir)):\n",
        "      if (dir[i].split('.')[0].split('-')[2] == 'True'):\n",
        "        label = 1\n",
        "      else: \n",
        "        label = 0\n",
        "      labels.append(label)\n",
        "    labels = np.array(labels)\n",
        "    return labels\n",
        "    \n",
        "  else:\n",
        "    print('Indefinite Call to the function')"
      ],
      "execution_count": 0,
      "outputs": []
    },
    {
      "metadata": {
        "id": "O0g-r7RsBDhn",
        "colab_type": "code",
        "colab": {}
      },
      "cell_type": "code",
      "source": [
        "y_test = extract_labels(os.getcwd(), test)\n",
        "print(y_test.shape)"
      ],
      "execution_count": 0,
      "outputs": []
    },
    {
      "metadata": {
        "id": "jVqW-R-xgjiT",
        "colab_type": "code",
        "colab": {}
      },
      "cell_type": "code",
      "source": [
        "os.chdir('/content/drive/My Drive/Tumor Project/training')"
      ],
      "execution_count": 0,
      "outputs": []
    },
    {
      "metadata": {
        "id": "ARX6QPgMgjsV",
        "colab_type": "code",
        "colab": {}
      },
      "cell_type": "code",
      "source": [
        "train = os.listdir()\n",
        "y_train = extract_labels(os.getcwd(), train)\n",
        "print(y_train.shape)"
      ],
      "execution_count": 0,
      "outputs": []
    },
    {
      "metadata": {
        "id": "qvZve8yUGD27",
        "colab_type": "code",
        "colab": {}
      },
      "cell_type": "code",
      "source": [
        "# Saving np label arrays in disk for future use and fast loading\n",
        "\n",
        "np.save(\"y_train.npy\", y_train)      \n",
        "np.save(\"y_test.npy\", y_test)      "
      ],
      "execution_count": 0,
      "outputs": []
    },
    {
      "metadata": {
        "id": "o3xng0t_y9Uz",
        "colab_type": "text"
      },
      "cell_type": "markdown",
      "source": [
        "## Converting train and test images into numpy arrays"
      ]
    },
    {
      "metadata": {
        "id": "YdA_5YYZ11Xy",
        "colab_type": "code",
        "outputId": "4b4d7546-e7cc-4db5-acd7-7f9eceac77f6",
        "colab": {
          "base_uri": "https://localhost:8080/",
          "height": 35
        }
      },
      "cell_type": "code",
      "source": [
        "os.getcwd()"
      ],
      "execution_count": 0,
      "outputs": [
        {
          "output_type": "execute_result",
          "data": {
            "text/plain": [
              "'/content/drive/My Drive/Tumor Project/training/train'"
            ]
          },
          "metadata": {
            "tags": []
          },
          "execution_count": 22
        }
      ]
    },
    {
      "metadata": {
        "id": "OLZuespGzX9D",
        "colab_type": "code",
        "colab": {}
      },
      "cell_type": "code",
      "source": [
        "### Function to convert images in specified path into numpy arrays ###\n",
        "\n",
        "from keras.preprocessing import image\n",
        "def image_to_nparray(dir):\n",
        "  \"\"\"\n",
        "    Converts image files from the given folder into numpy arrays\n",
        "    \n",
        "    Arguments:\n",
        "    dir -- list, contains the filenames in given path (train or test folders)\n",
        "    \n",
        "    Returns:\n",
        "    img_array -- numpy array of shape (m,h,w,c), contains the image values in form of np array\n",
        "    \n",
        "    \"\"\"\n",
        "  \n",
        "  img_list = []\n",
        "  for str in dir:\n",
        "    img = image.load_img(str, target_size = (128, 128))\n",
        "    x = image.img_to_array(img)\n",
        "    img_list.append(x)\n",
        "  img_array = np.array(img_list)\n",
        "  del(img_list)\n",
        "  return img_array"
      ],
      "execution_count": 0,
      "outputs": []
    },
    {
      "metadata": {
        "id": "pL8GE8m_K-1s",
        "colab_type": "code",
        "colab": {}
      },
      "cell_type": "code",
      "source": [
        "x_train = image_to_nparray(train)\n",
        "print(x_train.shape)"
      ],
      "execution_count": 0,
      "outputs": []
    },
    {
      "metadata": {
        "id": "2d_0cx2PIIKK",
        "colab_type": "code",
        "colab": {}
      },
      "cell_type": "code",
      "source": [
        "os.chdir('/content/drive/My Drive/Tumor Project/training/test')"
      ],
      "execution_count": 0,
      "outputs": []
    },
    {
      "metadata": {
        "id": "PC6NUFdVDjhJ",
        "colab_type": "code",
        "outputId": "84e1fdad-ecc0-479a-8bf1-92d261f3af18",
        "colab": {
          "base_uri": "https://localhost:8080/",
          "height": 35
        }
      },
      "cell_type": "code",
      "source": [
        "x_test = image_to_nparray(test)\n",
        "print(x_test.shape)"
      ],
      "execution_count": 0,
      "outputs": [
        {
          "output_type": "stream",
          "text": [
            "(320, 128, 128, 3)\n"
          ],
          "name": "stdout"
        }
      ]
    },
    {
      "metadata": {
        "id": "KlhSxyZKCz6u",
        "colab_type": "code",
        "colab": {}
      },
      "cell_type": "code",
      "source": [
        "os.chdir('/content/drive/My Drive/Tumor Project/training')"
      ],
      "execution_count": 0,
      "outputs": []
    },
    {
      "metadata": {
        "id": "cHDStpyjoxV-",
        "colab_type": "code",
        "colab": {}
      },
      "cell_type": "code",
      "source": [
        "# saving array to load it faster in future\n",
        "\n",
        "np.save(\"x_train.npy\", x_train)      \n",
        "np.save(\"x_test.npy\", x_test)      "
      ],
      "execution_count": 0,
      "outputs": []
    },
    {
      "metadata": {
        "id": "EaUmOw4gZrJa",
        "colab_type": "text"
      },
      "cell_type": "markdown",
      "source": [
        "## Loading numpy arrays from memory"
      ]
    },
    {
      "metadata": {
        "id": "gY9YjctDJXub",
        "colab_type": "code",
        "colab": {}
      },
      "cell_type": "code",
      "source": [
        "os.chdir('/content/drive/My Drive/Tumor Project/training')"
      ],
      "execution_count": 0,
      "outputs": []
    },
    {
      "metadata": {
        "id": "v06yOwhk2uQR",
        "colab_type": "code",
        "colab": {}
      },
      "cell_type": "code",
      "source": [
        "import numpy as np\n",
        "\n",
        "x_train = np.load('x_train.npy')\n",
        "x_test = np.load('x_test.npy')\n",
        "y_train = np.load('y_train.npy')\n",
        "y_test = np.load('y_test.npy')"
      ],
      "execution_count": 0,
      "outputs": []
    },
    {
      "metadata": {
        "id": "DGCiojyWyfjL",
        "colab_type": "text"
      },
      "cell_type": "markdown",
      "source": [
        "## Setting up the Model"
      ]
    },
    {
      "metadata": {
        "id": "eRJ7wfRkYxwm",
        "colab_type": "code",
        "outputId": "01b5e29d-37c3-489d-c39f-76b739ca0f52",
        "colab": {
          "base_uri": "https://localhost:8080/",
          "height": 35
        }
      },
      "cell_type": "code",
      "source": [
        "### Importing Keras in top of Tensorflow ###\n",
        "\n",
        "from keras.models import Sequential\n",
        "from keras.layers import Dense,Flatten\n",
        "from keras.applications.resnet50 import ResNet50\n",
        "import keras.backend as K\n",
        "K.set_image_data_format('channels_last')"
      ],
      "execution_count": 8,
      "outputs": [
        {
          "output_type": "stream",
          "text": [
            "Using TensorFlow backend.\n"
          ],
          "name": "stderr"
        }
      ]
    },
    {
      "metadata": {
        "id": "nzCLXg47To9c",
        "colab_type": "code",
        "outputId": "6a23e6df-0497-4450-c7b5-bda2003c2b6c",
        "colab": {
          "base_uri": "https://localhost:8080/",
          "height": 72
        }
      },
      "cell_type": "code",
      "source": [
        "new_model = Sequential()                                                               # defining the model instance in keras\n",
        "new_model.add(ResNet50(include_top = False, input_shape = (128,128,3), classes = 2))   # inbuilt resnet weights from ImageNet\n",
        "new_model.add(Flatten())                                                               # flatenning the resnet output\n",
        "new_model.add(Dense(1, activation = 'sigmoid'))                                        # the last sigmoid layer with one node for classification"
      ],
      "execution_count": 21,
      "outputs": [
        {
          "output_type": "stream",
          "text": [
            "/usr/local/lib/python3.6/dist-packages/keras_applications/resnet50.py:265: UserWarning: The output shape of `ResNet50(include_top=False)` has been changed since Keras 2.2.0.\n",
            "  warnings.warn('The output shape of `ResNet50(include_top=False)` '\n"
          ],
          "name": "stderr"
        }
      ]
    },
    {
      "metadata": {
        "id": "_CggRyUzxWRk",
        "colab_type": "code",
        "colab": {}
      },
      "cell_type": "code",
      "source": [
        "new_model.compile(\n",
        "    loss = 'binary_crossentropy',      # loss function\n",
        "    optimizer = 'adam',                # optimizer\n",
        "    metrics = ['accuracy']             # report accuracy during training\n",
        ")"
      ],
      "execution_count": 0,
      "outputs": []
    },
    {
      "metadata": {
        "id": "aMnmK50NYx0b",
        "colab_type": "code",
        "outputId": "a83dfd97-3125-4d06-a703-459861cc89cd",
        "colab": {
          "base_uri": "https://localhost:8080/",
          "height": 260
        }
      },
      "cell_type": "code",
      "source": [
        "print(new_model.summary())             # printing the model's summary"
      ],
      "execution_count": 23,
      "outputs": [
        {
          "output_type": "stream",
          "text": [
            "_________________________________________________________________\n",
            "Layer (type)                 Output Shape              Param #   \n",
            "=================================================================\n",
            "resnet50 (Model)             (None, 4, 4, 2048)        23587712  \n",
            "_________________________________________________________________\n",
            "flatten_2 (Flatten)          (None, 32768)             0         \n",
            "_________________________________________________________________\n",
            "dense_2 (Dense)              (None, 1)                 32769     \n",
            "=================================================================\n",
            "Total params: 23,620,481\n",
            "Trainable params: 23,567,361\n",
            "Non-trainable params: 53,120\n",
            "_________________________________________________________________\n",
            "None\n"
          ],
          "name": "stdout"
        }
      ]
    },
    {
      "metadata": {
        "id": "sYn-WrrxXQLE",
        "colab_type": "code",
        "outputId": "c64a7320-9e32-4625-8166-268e8f86c7ce",
        "colab": {
          "base_uri": "https://localhost:8080/",
          "height": 35
        }
      },
      "cell_type": "code",
      "source": [
        "os.getcwd()"
      ],
      "execution_count": 12,
      "outputs": [
        {
          "output_type": "execute_result",
          "data": {
            "text/plain": [
              "'/content/drive/My Drive/Tumor Project/training'"
            ]
          },
          "metadata": {
            "tags": []
          },
          "execution_count": 12
        }
      ]
    },
    {
      "metadata": {
        "id": "dpeR_KujXCk2",
        "colab_type": "code",
        "colab": {}
      },
      "cell_type": "code",
      "source": [
        "### saving the model plot for future reference\n",
        "\n",
        "from keras.utils import plot_model\n",
        "plot_model(new_model, to_file='model.png', show_shapes = True)"
      ],
      "execution_count": 0,
      "outputs": []
    },
    {
      "metadata": {
        "id": "FW3_sh5IDRUN",
        "colab_type": "code",
        "colab": {}
      },
      "cell_type": "code",
      "source": [
        "# freezing the initial 7 layers\n",
        "\n",
        "# for layers in new_model.layers[-7:]:\n",
        "#    layers.trainable = True"
      ],
      "execution_count": 0,
      "outputs": []
    },
    {
      "metadata": {
        "id": "R-2T-QIqOvqM",
        "colab_type": "text"
      },
      "cell_type": "markdown",
      "source": [
        "## Image Preprocessing before Model Fit"
      ]
    },
    {
      "metadata": {
        "id": "o1DZYQ5Cc2tV",
        "colab_type": "text"
      },
      "cell_type": "markdown",
      "source": [
        "#### Checking on array shapes before feeding"
      ]
    },
    {
      "metadata": {
        "id": "I8aDFG71O2Wb",
        "colab_type": "code",
        "outputId": "fa11190a-6c77-4d20-d8cb-2c4251cbe193",
        "colab": {
          "base_uri": "https://localhost:8080/",
          "height": 35
        }
      },
      "cell_type": "code",
      "source": [
        "y_train.shape"
      ],
      "execution_count": 24,
      "outputs": [
        {
          "output_type": "execute_result",
          "data": {
            "text/plain": [
              "(1805,)"
            ]
          },
          "metadata": {
            "tags": []
          },
          "execution_count": 24
        }
      ]
    },
    {
      "metadata": {
        "id": "HBXGg_Z2O4Jd",
        "colab_type": "code",
        "outputId": "8bb48370-361c-4eb7-b0d5-08c427335dba",
        "colab": {
          "base_uri": "https://localhost:8080/",
          "height": 35
        }
      },
      "cell_type": "code",
      "source": [
        "x_train.shape"
      ],
      "execution_count": 25,
      "outputs": [
        {
          "output_type": "execute_result",
          "data": {
            "text/plain": [
              "(1805, 128, 128, 3)"
            ]
          },
          "metadata": {
            "tags": []
          },
          "execution_count": 25
        }
      ]
    },
    {
      "metadata": {
        "id": "ePH-gClT4BdK",
        "colab_type": "code",
        "outputId": "d781bd2a-7cf1-43b0-e808-917866aee0c5",
        "colab": {
          "base_uri": "https://localhost:8080/",
          "height": 35
        }
      },
      "cell_type": "code",
      "source": [
        "x_test.shape"
      ],
      "execution_count": 26,
      "outputs": [
        {
          "output_type": "execute_result",
          "data": {
            "text/plain": [
              "(320, 128, 128, 3)"
            ]
          },
          "metadata": {
            "tags": []
          },
          "execution_count": 26
        }
      ]
    },
    {
      "metadata": {
        "id": "HpjIolEn4DwM",
        "colab_type": "code",
        "outputId": "92cac889-4fe1-4656-db9f-169aa688ed9a",
        "colab": {
          "base_uri": "https://localhost:8080/",
          "height": 35
        }
      },
      "cell_type": "code",
      "source": [
        "y_test.shape"
      ],
      "execution_count": 27,
      "outputs": [
        {
          "output_type": "execute_result",
          "data": {
            "text/plain": [
              "(320,)"
            ]
          },
          "metadata": {
            "tags": []
          },
          "execution_count": 27
        }
      ]
    },
    {
      "metadata": {
        "id": "I6Pn776mYw9X",
        "colab_type": "text"
      },
      "cell_type": "markdown",
      "source": [
        "#### Copying data into separate classes for image preprocessing"
      ]
    },
    {
      "metadata": {
        "id": "2-UkC9AoXkWo",
        "colab_type": "code",
        "colab": {}
      },
      "cell_type": "code",
      "source": [
        "os.chdir(\"/content/drive/My Drive/Tumor Project/training/train\")"
      ],
      "execution_count": 0,
      "outputs": []
    },
    {
      "metadata": {
        "id": "hoJvXeARulz4",
        "colab_type": "code",
        "colab": {}
      },
      "cell_type": "code",
      "source": [
        "train = os.listdir()"
      ],
      "execution_count": 0,
      "outputs": []
    },
    {
      "metadata": {
        "id": "pJV4_Q_nV_WK",
        "colab_type": "text"
      },
      "cell_type": "markdown",
      "source": [
        "##### Making sub-directories for each class in train directory "
      ]
    },
    {
      "metadata": {
        "id": "v6N94IXNX10O",
        "colab_type": "code",
        "outputId": "152c77a6-d8f7-47b4-bbfc-d1b3af23134b",
        "colab": {
          "base_uri": "https://localhost:8080/",
          "height": 35
        }
      },
      "cell_type": "code",
      "source": [
        "tumor = 'tumor'\n",
        "\n",
        "# Create target Directory if don't exist\n",
        "if not os.path.exists(tumor):\n",
        "  os.mkdir(tumor)\n",
        "  print(\"Directory \" , tumor ,  \" Created \")\n",
        "else:    \n",
        "  print(\"Directory \" , tumor ,  \" already exists\")"
      ],
      "execution_count": 0,
      "outputs": [
        {
          "output_type": "stream",
          "text": [
            "Directory  tumor  Created \n"
          ],
          "name": "stdout"
        }
      ]
    },
    {
      "metadata": {
        "id": "MYnhiXXVYLSJ",
        "colab_type": "code",
        "outputId": "729db87c-c1c5-4151-9bf2-efab8176d5c4",
        "colab": {
          "base_uri": "https://localhost:8080/",
          "height": 35
        }
      },
      "cell_type": "code",
      "source": [
        "nonTumor = 'non-tumor'\n",
        "\n",
        "# Create target Directory if don't exist\n",
        "if not os.path.exists(nonTumor):\n",
        "  os.mkdir(nonTumor)\n",
        "  print(\"Directory \" , nonTumor ,  \" Created \")\n",
        "else:    \n",
        "  print(\"Directory \" , nonTumor ,  \" already exists\")"
      ],
      "execution_count": 0,
      "outputs": [
        {
          "output_type": "stream",
          "text": [
            "Directory  non-tumor  Created \n"
          ],
          "name": "stdout"
        }
      ]
    },
    {
      "metadata": {
        "id": "zCPj8GPdxCEU",
        "colab_type": "code",
        "outputId": "009fb168-1317-4c6b-c44d-785f212ec6c2",
        "colab": {
          "base_uri": "https://localhost:8080/",
          "height": 35
        }
      },
      "cell_type": "code",
      "source": [
        "# Moving images into separate class folders for train set\n",
        "\n",
        "for f in test:\n",
        "  if (f.split('.')[0].split('-')[-1] == 'True'):\n",
        "    src = f\n",
        "    dest = 'tumor/' + f\n",
        "    shutil.move(src, dest)\n",
        "  else:\n",
        "    if (f.split('.')[0].split('-')[-1] == 'False'):\n",
        "      src = f\n",
        "      dest = 'non-tumor/' + f\n",
        "      shutil.move(src, dest)\n",
        "    else:\n",
        "      print('Failed!')\n",
        "    \n",
        "print('success')"
      ],
      "execution_count": 0,
      "outputs": [
        {
          "output_type": "stream",
          "text": [
            "success\n"
          ],
          "name": "stdout"
        }
      ]
    },
    {
      "metadata": {
        "id": "i9B3k5hSW_C5",
        "colab_type": "text"
      },
      "cell_type": "markdown",
      "source": [
        "##### Similary making sub-directories and moving images into them for test set"
      ]
    },
    {
      "metadata": {
        "id": "rgGyMuXQa1Ij",
        "colab_type": "code",
        "colab": {}
      },
      "cell_type": "code",
      "source": [
        "os.chdir(\"/content/drive/My Drive/Tumor Project/training/test\")"
      ],
      "execution_count": 0,
      "outputs": []
    },
    {
      "metadata": {
        "id": "s1FiklONvNU_",
        "colab_type": "code",
        "colab": {}
      },
      "cell_type": "code",
      "source": [
        "test = os.listdir()"
      ],
      "execution_count": 0,
      "outputs": []
    },
    {
      "metadata": {
        "colab_type": "code",
        "outputId": "152c77a6-d8f7-47b4-bbfc-d1b3af23134b",
        "id": "L7l4t3kfYRQH",
        "colab": {
          "base_uri": "https://localhost:8080/",
          "height": 35
        }
      },
      "cell_type": "code",
      "source": [
        "tumor = 'tumor'\n",
        "\n",
        "# Create target Directory if don't exist\n",
        "if not os.path.exists(tumor):\n",
        "  os.mkdir(tumor)\n",
        "  print(\"Directory \" , tumor ,  \" Created \")\n",
        "else:    \n",
        "  print(\"Directory \" , tumor ,  \" already exists\")"
      ],
      "execution_count": 0,
      "outputs": [
        {
          "output_type": "stream",
          "text": [
            "Directory  tumor  Created \n"
          ],
          "name": "stdout"
        }
      ]
    },
    {
      "metadata": {
        "colab_type": "code",
        "outputId": "729db87c-c1c5-4151-9bf2-efab8176d5c4",
        "id": "AXoz8ZZKYRP3",
        "colab": {
          "base_uri": "https://localhost:8080/",
          "height": 35
        }
      },
      "cell_type": "code",
      "source": [
        "nonTumor = 'non-tumor'\n",
        "\n",
        "# Create target Directory if don't exist\n",
        "if not os.path.exists(nonTumor):\n",
        "  os.mkdir(nonTumor)\n",
        "  print(\"Directory \" , nonTumor ,  \" Created \")\n",
        "else:    \n",
        "  print(\"Directory \" , nonTumor ,  \" already exists\")"
      ],
      "execution_count": 0,
      "outputs": [
        {
          "output_type": "stream",
          "text": [
            "Directory  non-tumor  Created \n"
          ],
          "name": "stdout"
        }
      ]
    },
    {
      "metadata": {
        "colab_type": "code",
        "id": "_YKPCT1OYRPm",
        "colab": {}
      },
      "cell_type": "code",
      "source": [
        "# Moving images from test directory into class-wise sub-directories\n",
        "\n",
        "for f in test:\n",
        "  if (f.split('.')[0].split('-')[-1] == 'True'):\n",
        "    src = f\n",
        "    dest = 'tumor/' + f\n",
        "    shutil.move(src, dest)\n",
        "  else:\n",
        "    if (f.split('.')[0].split('-')[-1] == 'False'):\n",
        "      src = f\n",
        "      dest = 'non-tumor/' + f\n",
        "      shutil.move(src, dest)\n",
        "    else:\n",
        "      print('Failed!')\n",
        "    \n",
        "print('success')"
      ],
      "execution_count": 0,
      "outputs": []
    },
    {
      "metadata": {
        "id": "wc9kR7UDdjih",
        "colab_type": "text"
      },
      "cell_type": "markdown",
      "source": [
        "#### Image Preprocessing"
      ]
    },
    {
      "metadata": {
        "id": "5r3GItKIK6Ur",
        "colab_type": "code",
        "outputId": "dc176148-568a-4ee8-8601-3060b221d260",
        "colab": {
          "base_uri": "https://localhost:8080/",
          "height": 35
        }
      },
      "cell_type": "code",
      "source": [
        "os.getcwd()"
      ],
      "execution_count": 28,
      "outputs": [
        {
          "output_type": "execute_result",
          "data": {
            "text/plain": [
              "'/content/drive/My Drive/Tumor Project/training'"
            ]
          },
          "metadata": {
            "tags": []
          },
          "execution_count": 28
        }
      ]
    },
    {
      "metadata": {
        "id": "sTfLcRqWDVKb",
        "colab_type": "code",
        "outputId": "b02f2a72-b10f-4859-86b6-46ad65788bc7",
        "colab": {
          "base_uri": "https://localhost:8080/",
          "height": 107
        }
      },
      "cell_type": "code",
      "source": [
        "# Preprocessing the images and performing augmentation \n",
        "# which will help in case of imbalanced dataset\n",
        "\n",
        "from keras.preprocessing.image import ImageDataGenerator\n",
        "\n",
        "train_datagen = ImageDataGenerator(rescale = 1./255,                                   \n",
        "                                   zoom_range = 0.2,\n",
        "                                   horizontal_flip = True,\n",
        "                                   zca_whitening=True)\n",
        "\n",
        "\n",
        "test_datagen= ImageDataGenerator(rescale=1./255)\n",
        "\n",
        "\n",
        "train = train_datagen.flow_from_directory('train',\n",
        "                                           target_size=(128, 128),\n",
        "                                           batch_size = 32,\n",
        "                                           class_mode='binary')\n",
        "\n",
        "\n",
        "test = test_datagen.flow_from_directory('test',\n",
        "                                         target_size=(128, 128),\n",
        "                                         batch_size = 32,\n",
        "                                         class_mode='binary')"
      ],
      "execution_count": 29,
      "outputs": [
        {
          "output_type": "stream",
          "text": [
            "/usr/local/lib/python3.6/dist-packages/keras_preprocessing/image/image_data_generator.py:334: UserWarning: This ImageDataGenerator specifies `zca_whitening`, which overrides setting of `featurewise_center`.\n",
            "  warnings.warn('This ImageDataGenerator specifies '\n"
          ],
          "name": "stderr"
        },
        {
          "output_type": "stream",
          "text": [
            "Found 1805 images belonging to 2 classes.\n",
            "Found 320 images belonging to 2 classes.\n"
          ],
          "name": "stdout"
        }
      ]
    },
    {
      "metadata": {
        "id": "RNVnrH_Feiqo",
        "colab_type": "text"
      },
      "cell_type": "markdown",
      "source": [
        "## Training the Model"
      ]
    },
    {
      "metadata": {
        "id": "jUs-jWXoHZtJ",
        "colab_type": "code",
        "outputId": "da5aeb47-a178-4790-9bed-0ddfdc6d334f",
        "colab": {
          "base_uri": "https://localhost:8080/",
          "height": 817
        }
      },
      "cell_type": "code",
      "source": [
        "new_model.fit_generator(train,                  # generated after image preprocessing\n",
        "                        epochs = 20,            \n",
        "                        steps_per_epoch = 56,   # int(total images/batchsize)\n",
        "                        verbose = 2)"
      ],
      "execution_count": 30,
      "outputs": [
        {
          "output_type": "stream",
          "text": [
            "Epoch 1/20\n"
          ],
          "name": "stdout"
        },
        {
          "output_type": "stream",
          "text": [
            "/usr/local/lib/python3.6/dist-packages/keras_preprocessing/image/image_data_generator.py:699: UserWarning: This ImageDataGenerator specifies `featurewise_center`, but it hasn't been fit on any training data. Fit it first by calling `.fit(numpy_data)`.\n",
            "  warnings.warn('This ImageDataGenerator specifies '\n",
            "/usr/local/lib/python3.6/dist-packages/keras_preprocessing/image/image_data_generator.py:718: UserWarning: This ImageDataGenerator specifies `zca_whitening`, but it hasn't been fit on any training data. Fit it first by calling `.fit(numpy_data)`.\n",
            "  warnings.warn('This ImageDataGenerator specifies '\n"
          ],
          "name": "stderr"
        },
        {
          "output_type": "stream",
          "text": [
            " - 360s - loss: 0.7069 - acc: 0.6741\n",
            "Epoch 2/20\n",
            " - 28s - loss: 0.4746 - acc: 0.7019\n",
            "Epoch 3/20\n",
            " - 24s - loss: 0.4128 - acc: 0.7779\n",
            "Epoch 4/20\n",
            " - 24s - loss: 0.3990 - acc: 0.7933\n",
            "Epoch 5/20\n",
            " - 24s - loss: 0.3802 - acc: 0.8114\n",
            "Epoch 6/20\n",
            " - 24s - loss: 0.3603 - acc: 0.8315\n",
            "Epoch 7/20\n",
            " - 24s - loss: 0.3617 - acc: 0.8410\n",
            "Epoch 8/20\n",
            " - 24s - loss: 0.3661 - acc: 0.8404\n",
            "Epoch 9/20\n",
            " - 24s - loss: 0.3317 - acc: 0.8382\n",
            "Epoch 10/20\n",
            " - 24s - loss: 0.3183 - acc: 0.8517\n",
            "Epoch 11/20\n",
            " - 24s - loss: 0.2665 - acc: 0.8711\n",
            "Epoch 12/20\n",
            " - 24s - loss: 0.3000 - acc: 0.8650\n",
            "Epoch 13/20\n",
            " - 24s - loss: 0.2483 - acc: 0.8829\n",
            "Epoch 14/20\n",
            " - 24s - loss: 0.2808 - acc: 0.8828\n",
            "Epoch 15/20\n",
            " - 24s - loss: 0.3240 - acc: 0.8736\n",
            "Epoch 16/20\n",
            " - 24s - loss: 0.2635 - acc: 0.8851\n",
            "Epoch 17/20\n",
            " - 24s - loss: 0.2427 - acc: 0.8962\n",
            "Epoch 18/20\n",
            " - 24s - loss: 0.2335 - acc: 0.8896\n",
            "Epoch 19/20\n",
            " - 24s - loss: 0.2331 - acc: 0.8910\n",
            "Epoch 20/20\n",
            " - 24s - loss: 0.2046 - acc: 0.9119\n"
          ],
          "name": "stdout"
        },
        {
          "output_type": "execute_result",
          "data": {
            "text/plain": [
              "<keras.callbacks.History at 0x7fb50a966320>"
            ]
          },
          "metadata": {
            "tags": []
          },
          "execution_count": 30
        }
      ]
    },
    {
      "metadata": {
        "id": "znOOwTkvC-kE",
        "colab_type": "code",
        "outputId": "bf00db2c-25f9-42b5-ceb5-4bf3063dea89",
        "colab": {
          "base_uri": "https://localhost:8080/",
          "height": 35
        }
      },
      "cell_type": "code",
      "source": [
        "os.getcwd()"
      ],
      "execution_count": 0,
      "outputs": [
        {
          "output_type": "execute_result",
          "data": {
            "text/plain": [
              "'/content/drive/My Drive/Tumor Project/training'"
            ]
          },
          "metadata": {
            "tags": []
          },
          "execution_count": 55
        }
      ]
    },
    {
      "metadata": {
        "id": "7BJv7KgBDBXB",
        "colab_type": "code",
        "colab": {}
      },
      "cell_type": "code",
      "source": [
        "### Saving the Model on Disk ###\n",
        "new_model.save('my-model.h5')\n",
        "new_model.save_weights(\"model-weights.h5\")"
      ],
      "execution_count": 0,
      "outputs": []
    },
    {
      "metadata": {
        "id": "VfRvFiotk-Q_",
        "colab_type": "code",
        "colab": {}
      },
      "cell_type": "code",
      "source": [
        "### Loading the Model from Disk ###\n",
        "\n",
        "from keras.models import load_model\n",
        "new_model = load_model('my-model.h5')"
      ],
      "execution_count": 0,
      "outputs": []
    },
    {
      "metadata": {
        "id": "JXBFg2A__YFh",
        "colab_type": "code",
        "outputId": "29e2157d-c801-4564-bc0b-9f53c410af0f",
        "colab": {
          "base_uri": "https://localhost:8080/",
          "height": 35
        }
      },
      "cell_type": "code",
      "source": [
        "scores = new_model.evaluate_generator(test, steps = 56)\n",
        "print(\"Accuracy = \", scores[1])"
      ],
      "execution_count": 0,
      "outputs": [
        {
          "output_type": "stream",
          "text": [
            "Accuracy =  0.8655133928571429\n"
          ],
          "name": "stdout"
        }
      ]
    },
    {
      "metadata": {
        "id": "PgiqwR9sQo8E",
        "colab_type": "code",
        "colab": {
          "base_uri": "https://localhost:8080/",
          "height": 52
        },
        "outputId": "cd651be4-753a-4bda-9800-a89f639d0199"
      },
      "cell_type": "code",
      "source": [
        "from sklearn.metrics import confusion_matrix\n",
        "\n",
        "y_pred = new_model.predict_generator(test, steps = 10)\n",
        "print(confusion_matrix(y_test, y_pred.round()))"
      ],
      "execution_count": 45,
      "outputs": [
        {
          "output_type": "stream",
          "text": [
            "[[ 35  80]\n",
            " [ 50 155]]\n"
          ],
          "name": "stdout"
        }
      ]
    },
    {
      "metadata": {
        "id": "7-Xx2dSCoD1x",
        "colab_type": "text"
      },
      "cell_type": "markdown",
      "source": [
        "## Rough Work"
      ]
    },
    {
      "metadata": {
        "id": "f4GlmLxRhz_5",
        "colab_type": "code",
        "outputId": "f1fb02f5-70d1-4621-9206-be96151f34ac",
        "colab": {
          "base_uri": "https://localhost:8080/",
          "height": 69
        }
      },
      "cell_type": "code",
      "source": [
        "print('Size of dataset : ' + str(len(dataset)))\n",
        "print('Size of train : ' + str(len(train)))\n",
        "print('Size of test : ' + str(len(test)))\n",
        "\n",
        "if((len(train) + len(test)) != len(dataset)):\n",
        "  print('Error!')"
      ],
      "execution_count": 0,
      "outputs": [
        {
          "output_type": "stream",
          "text": [
            "Size of dataset : 2125\n",
            "Size of train : 1805\n",
            "Size of test : 320\n"
          ],
          "name": "stdout"
        }
      ]
    },
    {
      "metadata": {
        "id": "3rHLXYGNrzZ1",
        "colab_type": "code",
        "outputId": "f6111195-2d0a-4ce9-a46d-e726602c11e5",
        "colab": {
          "base_uri": "https://localhost:8080/",
          "height": 52
        }
      },
      "cell_type": "code",
      "source": [
        "# count of classes in train\n",
        "# tumor = 1216 | non tumor = 589\n",
        "## imbalanced ## \n",
        "\n",
        "tumor_counter = 0\n",
        "non_tumor_counter = 0\n",
        "\n",
        "for f in train:\n",
        "  if (f.split('.')[0].split('-')[-1] == 'True'):\n",
        "    tumor_counter += 1\n",
        "  else:\n",
        "    if (f.split('.')[0].split('-')[-1] == 'False'): \n",
        "      non_tumor_counter += 1\n",
        "    else:\n",
        "      print('Unidentified!')\n",
        "    \n",
        "print('tumor counter = ' + str(tumor_counter))\n",
        "print('non tumor counter = ' + str(non_tumor_counter))"
      ],
      "execution_count": 0,
      "outputs": [
        {
          "output_type": "stream",
          "text": [
            "tumor counter = 1216\n",
            "non tumor counter = 589\n"
          ],
          "name": "stdout"
        }
      ]
    },
    {
      "metadata": {
        "id": "rZ1mFaTRseOq",
        "colab_type": "code",
        "outputId": "f8a463db-425e-4539-c2a1-9ffed6a5a448",
        "colab": {
          "base_uri": "https://localhost:8080/",
          "height": 52
        }
      },
      "cell_type": "code",
      "source": [
        "# count of classes in test\n",
        "\n",
        "tumor_counter = 0\n",
        "non_tumor_counter = 0\n",
        "\n",
        "for f in test:\n",
        "  if (f.split('.')[0].split('-')[-1] == 'True'):\n",
        "    tumor_counter += 1\n",
        "  else:\n",
        "    if (f.split('.')[0].split('-')[-1] == 'False'): \n",
        "      non_tumor_counter += 1\n",
        "    else:\n",
        "      print('Unidentified!')\n",
        "    \n",
        "print('tumor counter = ' + str(tumor_counter))\n",
        "print('non tumor counter = ' + str(non_tumor_counter))"
      ],
      "execution_count": 0,
      "outputs": [
        {
          "output_type": "stream",
          "text": [
            "tumor counter = 205\n",
            "non tumor counter = 115\n"
          ],
          "name": "stdout"
        }
      ]
    }
  ]
}